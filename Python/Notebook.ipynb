{
 "cells": [
  {
   "cell_type": "code",
   "execution_count": 8,
   "metadata": {},
   "outputs": [],
   "source": [
    "import os\n",
    "from pathlib import Path"
   ]
  },
  {
   "cell_type": "code",
   "execution_count": 24,
   "metadata": {},
   "outputs": [
    {
     "name": "stdout",
     "output_type": "stream",
     "text": [
      "c:\\Users\\Ivan\\Documents\\ProgettoAmbiente\\Dati\\2024\\Orari.csv\n"
     ]
    }
   ],
   "source": [
    "currentPath = Path.cwd()\n",
    "dataPath = currentPath.parent / \"Dati\" / \"2024\"\n",
    "\"\"\" os.listdir(dataPath) \"\"\"\n",
    "filepath = dataPath / \"Orari.csv\"\n",
    "print(filepath)\n"
   ]
  }
 ],
 "metadata": {
  "kernelspec": {
   "display_name": ".venv",
   "language": "python",
   "name": "python3"
  },
  "language_info": {
   "codemirror_mode": {
    "name": "ipython",
    "version": 3
   },
   "file_extension": ".py",
   "mimetype": "text/x-python",
   "name": "python",
   "nbconvert_exporter": "python",
   "pygments_lexer": "ipython3",
   "version": "3.13.2"
  }
 },
 "nbformat": 4,
 "nbformat_minor": 2
}
